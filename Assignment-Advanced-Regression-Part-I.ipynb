{
 "cells": [
  {
   "cell_type": "markdown",
   "id": "1c5ba0f9",
   "metadata": {},
   "source": [
    "# Advanced Regression Assignment \n",
    "> Build a regularized regression model to understand the most important variables to predict the house prices in Australia.\n",
    "\n",
    "\n",
    "## Problem Statement\n",
    "> A US-based housing company named Surprise Housing has decided to enter the Australian market. The company uses data analytics to purchase houses at a price below their actual values and flip them on at a higher price. For the same purpose, the company has collected a data set from the sale of houses in Australia. The data is provided in the CSV file below.\n",
    ">\n",
    "> The company is looking at prospective properties to buy to enter the market. You are required to build a regression model using regularisation in order to predict the actual value of the prospective properties and decide whether to invest in them or not.\n",
    ">\n",
    "> The company wants to know:\n",
    "> - Which variables are significant in predicting the price of a house, and\n",
    "> - How well those variables describe the price of a house.\n",
    ">   \n",
    "> Also, determine the optimal value of lambda for ridge and lasso regression.\n",
    "\n",
    "\n",
    "## Business Goal\n",
    "> You are required to model the price of houses with the available independent variables. This model will then be used by the management to understand how exactly the prices vary with the variables. They can accordingly manipulate the strategy of the firm and concentrate on areas that will yield high returns. Further, the model will be a good way for management to understand the pricing dynamics of a new market.\n"
   ]
  },
  {
   "cell_type": "code",
   "execution_count": null,
   "id": "7f714abc",
   "metadata": {},
   "outputs": [],
   "source": []
  }
 ],
 "metadata": {
  "kernelspec": {
   "display_name": "Python 3 (ipykernel)",
   "language": "python",
   "name": "python3"
  },
  "language_info": {
   "codemirror_mode": {
    "name": "ipython",
    "version": 3
   },
   "file_extension": ".py",
   "mimetype": "text/x-python",
   "name": "python",
   "nbconvert_exporter": "python",
   "pygments_lexer": "ipython3",
   "version": "3.10.9"
  }
 },
 "nbformat": 4,
 "nbformat_minor": 5
}
